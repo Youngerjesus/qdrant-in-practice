{
 "cells": [
  {
   "cell_type": "markdown",
   "metadata": {},
   "source": [
    "# Create a Simple Neural Search Service\n"
   ]
  },
  {
   "cell_type": "markdown",
   "metadata": {},
   "source": [
    "This tutorial shows you how to build and deploy your own neural search service to look through descriptions of companies from startups-list.com and pick the most similar ones to your query. The website contains the company names, descriptions, locations, and a picture for each entry.\n",
    "\n",
    "\n",
    "A neural search service uses artificial neural networks to improve the accuracy and relevance of search results. Besides offering simple keyword results, this system can retrieve results by meaning. It can understand and interpret complex search queries and provide more contextually relevant output, effectively enhancing the user’s search experience.\n",
    "\n"
   ]
  },
  {
   "cell_type": "markdown",
   "metadata": {},
   "source": [
    "## Workflow\n",
    "To create a neural search service, you will need to transform your raw data and then create a search function to manipulate it. First, you will 1) download and prepare a sample dataset using a modified version of the BERT ML model. Then, you will 2) load the data into Qdrant, 3) create a neural search API and 4) serve it using FastAPI.\n",
    "\n",
    "\n",
    "Note: The code for this tutorial can be found here: | Step 1: Data Preparation Process | Step 2: Full Code for Neural Search. |\n",
    "\n",
    "\n"
   ]
  },
  {
   "cell_type": "markdown",
   "metadata": {},
   "source": [
    "## Prerequisites\n",
    "To complete this tutorial, you will need:\n",
    "\n",
    "Docker - The easiest way to use Qdrant is to run a pre-built Docker image.\n",
    "Raw parsed data from startups-list.com.\n",
    "Python version >=3.8\n"
   ]
  },
  {
   "cell_type": "markdown",
   "metadata": {},
   "source": [
    "## Prepare sample dataset\n",
    "To conduct a neural search on startup descriptions, you must first encode the description data into vectors. To process text, you can use a pre-trained models like BERT or sentence transformers. The sentence-transformers library lets you conveniently download and use many pre-trained models, such as DistilBERT, MPNet, etc.\n",
    "\n",
    "First you need to download the dataset.\n",
    "```bash\n",
    "wget https://storage.googleapis.com/generall-shared-data/startups_demo.json\n",
    "```"
   ]
  },
  {
   "cell_type": "code",
   "execution_count": 4,
   "metadata": {},
   "outputs": [
    {
     "name": "stdout",
     "output_type": "stream",
     "text": [
      "Requirement already satisfied: sentence-transformers in /Users/jeongmin/PycharmProjects/qdrant-in-practice/myenv/lib/python3.12/site-packages (3.0.1)\n",
      "Requirement already satisfied: numpy in /Users/jeongmin/PycharmProjects/qdrant-in-practice/myenv/lib/python3.12/site-packages (1.26.4)\n",
      "Requirement already satisfied: pandas in /Users/jeongmin/PycharmProjects/qdrant-in-practice/myenv/lib/python3.12/site-packages (2.2.2)\n",
      "Requirement already satisfied: tqdm in /Users/jeongmin/PycharmProjects/qdrant-in-practice/myenv/lib/python3.12/site-packages (4.66.4)\n",
      "Requirement already satisfied: torch in /Users/jeongmin/PycharmProjects/qdrant-in-practice/myenv/lib/python3.12/site-packages (2.3.1)\n",
      "Collecting torchvision\n",
      "  Downloading torchvision-0.18.1-cp312-cp312-macosx_11_0_arm64.whl.metadata (6.6 kB)\n",
      "Collecting torchaudio\n",
      "  Downloading torchaudio-2.3.1-cp312-cp312-macosx_11_0_arm64.whl.metadata (6.4 kB)\n",
      "Requirement already satisfied: transformers<5.0.0,>=4.34.0 in /Users/jeongmin/PycharmProjects/qdrant-in-practice/myenv/lib/python3.12/site-packages (from sentence-transformers) (4.42.3)\n",
      "Requirement already satisfied: scikit-learn in /Users/jeongmin/PycharmProjects/qdrant-in-practice/myenv/lib/python3.12/site-packages (from sentence-transformers) (1.5.1)\n",
      "Requirement already satisfied: scipy in /Users/jeongmin/PycharmProjects/qdrant-in-practice/myenv/lib/python3.12/site-packages (from sentence-transformers) (1.14.0)\n",
      "Requirement already satisfied: huggingface-hub>=0.15.1 in /Users/jeongmin/PycharmProjects/qdrant-in-practice/myenv/lib/python3.12/site-packages (from sentence-transformers) (0.23.4)\n",
      "Requirement already satisfied: Pillow in /Users/jeongmin/PycharmProjects/qdrant-in-practice/myenv/lib/python3.12/site-packages (from sentence-transformers) (10.4.0)\n",
      "Requirement already satisfied: python-dateutil>=2.8.2 in /Users/jeongmin/PycharmProjects/qdrant-in-practice/myenv/lib/python3.12/site-packages (from pandas) (2.9.0.post0)\n",
      "Requirement already satisfied: pytz>=2020.1 in /Users/jeongmin/PycharmProjects/qdrant-in-practice/myenv/lib/python3.12/site-packages (from pandas) (2024.1)\n",
      "Requirement already satisfied: tzdata>=2022.7 in /Users/jeongmin/PycharmProjects/qdrant-in-practice/myenv/lib/python3.12/site-packages (from pandas) (2024.1)\n",
      "Requirement already satisfied: filelock in /Users/jeongmin/PycharmProjects/qdrant-in-practice/myenv/lib/python3.12/site-packages (from torch) (3.15.4)\n",
      "Requirement already satisfied: typing-extensions>=4.8.0 in /Users/jeongmin/PycharmProjects/qdrant-in-practice/myenv/lib/python3.12/site-packages (from torch) (4.12.2)\n",
      "Requirement already satisfied: sympy in /Users/jeongmin/PycharmProjects/qdrant-in-practice/myenv/lib/python3.12/site-packages (from torch) (1.13.0)\n",
      "Requirement already satisfied: networkx in /Users/jeongmin/PycharmProjects/qdrant-in-practice/myenv/lib/python3.12/site-packages (from torch) (3.3)\n",
      "Requirement already satisfied: jinja2 in /Users/jeongmin/PycharmProjects/qdrant-in-practice/myenv/lib/python3.12/site-packages (from torch) (3.1.4)\n",
      "Requirement already satisfied: fsspec in /Users/jeongmin/PycharmProjects/qdrant-in-practice/myenv/lib/python3.12/site-packages (from torch) (2024.6.1)\n",
      "Requirement already satisfied: packaging>=20.9 in /Users/jeongmin/PycharmProjects/qdrant-in-practice/myenv/lib/python3.12/site-packages (from huggingface-hub>=0.15.1->sentence-transformers) (24.1)\n",
      "Requirement already satisfied: pyyaml>=5.1 in /Users/jeongmin/PycharmProjects/qdrant-in-practice/myenv/lib/python3.12/site-packages (from huggingface-hub>=0.15.1->sentence-transformers) (6.0.1)\n",
      "Requirement already satisfied: requests in /Users/jeongmin/PycharmProjects/qdrant-in-practice/myenv/lib/python3.12/site-packages (from huggingface-hub>=0.15.1->sentence-transformers) (2.32.3)\n",
      "Requirement already satisfied: six>=1.5 in /Users/jeongmin/PycharmProjects/qdrant-in-practice/myenv/lib/python3.12/site-packages (from python-dateutil>=2.8.2->pandas) (1.16.0)\n",
      "Requirement already satisfied: regex!=2019.12.17 in /Users/jeongmin/PycharmProjects/qdrant-in-practice/myenv/lib/python3.12/site-packages (from transformers<5.0.0,>=4.34.0->sentence-transformers) (2024.5.15)\n",
      "Requirement already satisfied: safetensors>=0.4.1 in /Users/jeongmin/PycharmProjects/qdrant-in-practice/myenv/lib/python3.12/site-packages (from transformers<5.0.0,>=4.34.0->sentence-transformers) (0.4.3)\n",
      "Requirement already satisfied: tokenizers<0.20,>=0.19 in /Users/jeongmin/PycharmProjects/qdrant-in-practice/myenv/lib/python3.12/site-packages (from transformers<5.0.0,>=4.34.0->sentence-transformers) (0.19.1)\n",
      "Requirement already satisfied: MarkupSafe>=2.0 in /Users/jeongmin/PycharmProjects/qdrant-in-practice/myenv/lib/python3.12/site-packages (from jinja2->torch) (2.1.5)\n",
      "Requirement already satisfied: joblib>=1.2.0 in /Users/jeongmin/PycharmProjects/qdrant-in-practice/myenv/lib/python3.12/site-packages (from scikit-learn->sentence-transformers) (1.4.2)\n",
      "Requirement already satisfied: threadpoolctl>=3.1.0 in /Users/jeongmin/PycharmProjects/qdrant-in-practice/myenv/lib/python3.12/site-packages (from scikit-learn->sentence-transformers) (3.5.0)\n",
      "Requirement already satisfied: mpmath<1.4,>=1.1.0 in /Users/jeongmin/PycharmProjects/qdrant-in-practice/myenv/lib/python3.12/site-packages (from sympy->torch) (1.3.0)\n",
      "Requirement already satisfied: charset-normalizer<4,>=2 in /Users/jeongmin/PycharmProjects/qdrant-in-practice/myenv/lib/python3.12/site-packages (from requests->huggingface-hub>=0.15.1->sentence-transformers) (3.3.2)\n",
      "Requirement already satisfied: idna<4,>=2.5 in /Users/jeongmin/PycharmProjects/qdrant-in-practice/myenv/lib/python3.12/site-packages (from requests->huggingface-hub>=0.15.1->sentence-transformers) (3.7)\n",
      "Requirement already satisfied: urllib3<3,>=1.21.1 in /Users/jeongmin/PycharmProjects/qdrant-in-practice/myenv/lib/python3.12/site-packages (from requests->huggingface-hub>=0.15.1->sentence-transformers) (2.2.2)\n",
      "Requirement already satisfied: certifi>=2017.4.17 in /Users/jeongmin/PycharmProjects/qdrant-in-practice/myenv/lib/python3.12/site-packages (from requests->huggingface-hub>=0.15.1->sentence-transformers) (2024.7.4)\n",
      "Downloading torchvision-0.18.1-cp312-cp312-macosx_11_0_arm64.whl (1.6 MB)\n",
      "\u001b[2K   \u001b[90m━━━━━━━━━━━━━━━━━━━━━━━━━━━━━━━━━━━━━━━━\u001b[0m \u001b[32m1.6/1.6 MB\u001b[0m \u001b[31m4.6 MB/s\u001b[0m eta \u001b[36m0:00:00\u001b[0m00:01\u001b[0m00:01\u001b[0m\n",
      "\u001b[?25hDownloading torchaudio-2.3.1-cp312-cp312-macosx_11_0_arm64.whl (1.8 MB)\n",
      "\u001b[2K   \u001b[90m━━━━━━━━━━━━━━━━━━━━━━━━━━━━━━━━━━━━━━━━\u001b[0m \u001b[32m1.8/1.8 MB\u001b[0m \u001b[31m7.2 MB/s\u001b[0m eta \u001b[36m0:00:00\u001b[0ma \u001b[36m0:00:01\u001b[0m\n",
      "\u001b[?25hInstalling collected packages: torchvision, torchaudio\n",
      "Successfully installed torchaudio-2.3.1 torchvision-0.18.1\n",
      "\n",
      "\u001b[1m[\u001b[0m\u001b[34;49mnotice\u001b[0m\u001b[1;39;49m]\u001b[0m\u001b[39;49m A new release of pip is available: \u001b[0m\u001b[31;49m24.0\u001b[0m\u001b[39;49m -> \u001b[0m\u001b[32;49m24.1.2\u001b[0m\n",
      "\u001b[1m[\u001b[0m\u001b[34;49mnotice\u001b[0m\u001b[1;39;49m]\u001b[0m\u001b[39;49m To update, run: \u001b[0m\u001b[32;49mpip install --upgrade pip\u001b[0m\n",
      "Note: you may need to restart the kernel to use updated packages.\n"
     ]
    }
   ],
   "source": [
    "%pip install sentence-transformers numpy pandas tqdm torch torchvision torchaudio"
   ]
  },
  {
   "cell_type": "code",
   "execution_count": 11,
   "metadata": {},
   "outputs": [
    {
     "name": "stdout",
     "output_type": "stream",
     "text": [
      "False\n",
      "True\n"
     ]
    }
   ],
   "source": [
    "import torch\n",
    "\n",
    "print(torch.cuda.is_available())\n",
    "print(torch.backends.mps.is_available())\n",
    "device = torch.device(\"mps\")  # Metal Performance Shaders(MPS)를 사용"
   ]
  },
  {
   "cell_type": "code",
   "execution_count": 14,
   "metadata": {},
   "outputs": [
    {
     "data": {
      "text/html": [
       "<div>\n",
       "<style scoped>\n",
       "    .dataframe tbody tr th:only-of-type {\n",
       "        vertical-align: middle;\n",
       "    }\n",
       "\n",
       "    .dataframe tbody tr th {\n",
       "        vertical-align: top;\n",
       "    }\n",
       "\n",
       "    .dataframe thead th {\n",
       "        text-align: right;\n",
       "    }\n",
       "</style>\n",
       "<table border=\"1\" class=\"dataframe\">\n",
       "  <thead>\n",
       "    <tr style=\"text-align: right;\">\n",
       "      <th></th>\n",
       "      <th>name</th>\n",
       "      <th>images</th>\n",
       "      <th>alt</th>\n",
       "      <th>description</th>\n",
       "      <th>link</th>\n",
       "      <th>city</th>\n",
       "    </tr>\n",
       "  </thead>\n",
       "  <tbody>\n",
       "    <tr>\n",
       "      <th>0</th>\n",
       "      <td>SaferCodes</td>\n",
       "      <td>https://safer.codes/img/brand/logo-icon.png</td>\n",
       "      <td>SaferCodes Logo QR codes generator system form...</td>\n",
       "      <td>QR codes systems for COVID-19.\\nSimple tools f...</td>\n",
       "      <td>https://safer.codes</td>\n",
       "      <td>Chicago</td>\n",
       "    </tr>\n",
       "    <tr>\n",
       "      <th>1</th>\n",
       "      <td>Human Practice</td>\n",
       "      <td>https://d1qb2nb5cznatu.cloudfront.net/startups...</td>\n",
       "      <td>Human Practice -  health care information tech...</td>\n",
       "      <td>Point-of-care word of mouth\\nPreferral is a mo...</td>\n",
       "      <td>http://humanpractice.com</td>\n",
       "      <td>Chicago</td>\n",
       "    </tr>\n",
       "    <tr>\n",
       "      <th>2</th>\n",
       "      <td>StyleSeek</td>\n",
       "      <td>https://d1qb2nb5cznatu.cloudfront.net/startups...</td>\n",
       "      <td>StyleSeek -  e-commerce fashion mass customiza...</td>\n",
       "      <td>Personalized e-commerce for lifestyle products...</td>\n",
       "      <td>http://styleseek.com</td>\n",
       "      <td>Chicago</td>\n",
       "    </tr>\n",
       "    <tr>\n",
       "      <th>3</th>\n",
       "      <td>Scout</td>\n",
       "      <td>https://d1qb2nb5cznatu.cloudfront.net/startups...</td>\n",
       "      <td>Scout -  security consumer electronics interne...</td>\n",
       "      <td>Hassle-free Home Security\\nScout is a self-ins...</td>\n",
       "      <td>http://www.scoutalarm.com</td>\n",
       "      <td>Chicago</td>\n",
       "    </tr>\n",
       "    <tr>\n",
       "      <th>4</th>\n",
       "      <td>Invitation codes</td>\n",
       "      <td>https://invitation.codes/img/inv-brand-fb3.png</td>\n",
       "      <td>Invitation App - Share referral codes community</td>\n",
       "      <td>The referral community\\nInvitation App is a so...</td>\n",
       "      <td>https://invitation.codes</td>\n",
       "      <td>Chicago</td>\n",
       "    </tr>\n",
       "    <tr>\n",
       "      <th>...</th>\n",
       "      <td>...</td>\n",
       "      <td>...</td>\n",
       "      <td>...</td>\n",
       "      <td>...</td>\n",
       "      <td>...</td>\n",
       "      <td>...</td>\n",
       "    </tr>\n",
       "    <tr>\n",
       "      <th>40469</th>\n",
       "      <td>Drunken Moose</td>\n",
       "      <td>https://d1qb2nb5cznatu.cloudfront.net/startups...</td>\n",
       "      <td>Drunken Moose -  digital media advertising des...</td>\n",
       "      <td>Branding and Marketing Consultancy Agency\\nHel...</td>\n",
       "      <td>http://www.drunkenmoose.com.au</td>\n",
       "      <td>Sydney</td>\n",
       "    </tr>\n",
       "    <tr>\n",
       "      <th>40470</th>\n",
       "      <td>AA Adonis Rubbish Removals</td>\n",
       "      <td>https://d1qb2nb5cznatu.cloudfront.net/startups...</td>\n",
       "      <td>AA Adonis Rubbish Removals -  cleaning</td>\n",
       "      <td>Rubbish Removals Sydney\\nAA Adonis Rubbish Rem...</td>\n",
       "      <td>http://www.aaadonisrubbishremovals.com.au/</td>\n",
       "      <td>Sydney</td>\n",
       "    </tr>\n",
       "    <tr>\n",
       "      <th>40471</th>\n",
       "      <td>QualityTrade</td>\n",
       "      <td>https://d1qb2nb5cznatu.cloudfront.net/startups...</td>\n",
       "      <td>QualityTrade -  B2B</td>\n",
       "      <td>Merit based wholesale trade platform. \\nQualit...</td>\n",
       "      <td>https://www.qualitytrade.com/</td>\n",
       "      <td>Sydney</td>\n",
       "    </tr>\n",
       "    <tr>\n",
       "      <th>40472</th>\n",
       "      <td>The Myer Family Company</td>\n",
       "      <td>https://d1qb2nb5cznatu.cloudfront.net/startups...</td>\n",
       "      <td>The Myer Family Company -</td>\n",
       "      <td>MFCo is a family office specialising in design...</td>\n",
       "      <td>http://www.mfco.com.au/</td>\n",
       "      <td>Sydney</td>\n",
       "    </tr>\n",
       "    <tr>\n",
       "      <th>40473</th>\n",
       "      <td>Harry Georje</td>\n",
       "      <td>https://d1qb2nb5cznatu.cloudfront.net/startups...</td>\n",
       "      <td>Harry Georje -  e-commerce jewelry Fine jewelry</td>\n",
       "      <td>Custom Made Jewelry Online!\\nHarry Georje Desi...</td>\n",
       "      <td>http://harrygeorjediamonds.com.au</td>\n",
       "      <td>Sydney</td>\n",
       "    </tr>\n",
       "  </tbody>\n",
       "</table>\n",
       "<p>40474 rows × 6 columns</p>\n",
       "</div>"
      ],
      "text/plain": [
       "                             name  \\\n",
       "0                      SaferCodes   \n",
       "1                  Human Practice   \n",
       "2                       StyleSeek   \n",
       "3                           Scout   \n",
       "4                Invitation codes   \n",
       "...                           ...   \n",
       "40469               Drunken Moose   \n",
       "40470  AA Adonis Rubbish Removals   \n",
       "40471                QualityTrade   \n",
       "40472     The Myer Family Company   \n",
       "40473                Harry Georje   \n",
       "\n",
       "                                                  images  \\\n",
       "0            https://safer.codes/img/brand/logo-icon.png   \n",
       "1      https://d1qb2nb5cznatu.cloudfront.net/startups...   \n",
       "2      https://d1qb2nb5cznatu.cloudfront.net/startups...   \n",
       "3      https://d1qb2nb5cznatu.cloudfront.net/startups...   \n",
       "4         https://invitation.codes/img/inv-brand-fb3.png   \n",
       "...                                                  ...   \n",
       "40469  https://d1qb2nb5cznatu.cloudfront.net/startups...   \n",
       "40470  https://d1qb2nb5cznatu.cloudfront.net/startups...   \n",
       "40471  https://d1qb2nb5cznatu.cloudfront.net/startups...   \n",
       "40472  https://d1qb2nb5cznatu.cloudfront.net/startups...   \n",
       "40473  https://d1qb2nb5cznatu.cloudfront.net/startups...   \n",
       "\n",
       "                                                     alt  \\\n",
       "0      SaferCodes Logo QR codes generator system form...   \n",
       "1      Human Practice -  health care information tech...   \n",
       "2      StyleSeek -  e-commerce fashion mass customiza...   \n",
       "3      Scout -  security consumer electronics interne...   \n",
       "4       Invitation App - Share referral codes community    \n",
       "...                                                  ...   \n",
       "40469  Drunken Moose -  digital media advertising des...   \n",
       "40470             AA Adonis Rubbish Removals -  cleaning   \n",
       "40471                                QualityTrade -  B2B   \n",
       "40472                         The Myer Family Company -    \n",
       "40473    Harry Georje -  e-commerce jewelry Fine jewelry   \n",
       "\n",
       "                                             description  \\\n",
       "0      QR codes systems for COVID-19.\\nSimple tools f...   \n",
       "1      Point-of-care word of mouth\\nPreferral is a mo...   \n",
       "2      Personalized e-commerce for lifestyle products...   \n",
       "3      Hassle-free Home Security\\nScout is a self-ins...   \n",
       "4      The referral community\\nInvitation App is a so...   \n",
       "...                                                  ...   \n",
       "40469  Branding and Marketing Consultancy Agency\\nHel...   \n",
       "40470  Rubbish Removals Sydney\\nAA Adonis Rubbish Rem...   \n",
       "40471  Merit based wholesale trade platform. \\nQualit...   \n",
       "40472  MFCo is a family office specialising in design...   \n",
       "40473  Custom Made Jewelry Online!\\nHarry Georje Desi...   \n",
       "\n",
       "                                             link     city  \n",
       "0                             https://safer.codes  Chicago  \n",
       "1                        http://humanpractice.com  Chicago  \n",
       "2                            http://styleseek.com  Chicago  \n",
       "3                       http://www.scoutalarm.com  Chicago  \n",
       "4                        https://invitation.codes  Chicago  \n",
       "...                                           ...      ...  \n",
       "40469              http://www.drunkenmoose.com.au   Sydney  \n",
       "40470  http://www.aaadonisrubbishremovals.com.au/   Sydney  \n",
       "40471               https://www.qualitytrade.com/   Sydney  \n",
       "40472                     http://www.mfco.com.au/   Sydney  \n",
       "40473           http://harrygeorjediamonds.com.au   Sydney  \n",
       "\n",
       "[40474 rows x 6 columns]"
      ]
     },
     "execution_count": 14,
     "metadata": {},
     "output_type": "execute_result"
    }
   ],
   "source": [
    "from sentence_transformers import SentenceTransformer\n",
    "import numpy as np\n",
    "import json\n",
    "import pandas as pd\n",
    "from tqdm.notebook import tqdm\n",
    "\n",
    "model = SentenceTransformer(\n",
    "    \"all-MiniLM-L6-v2\", device=\"cpu\"\n",
    ")  # or device=\"cpu\" if you don't have a GPU\n",
    "\n",
    "df = pd.read_json(\"./startups_demo.json\", lines=True)\n",
    "\n",
    "df"
   ]
  },
  {
   "cell_type": "code",
   "execution_count": 15,
   "metadata": {},
   "outputs": [
    {
     "name": "stderr",
     "output_type": "stream",
     "text": [
      "Batches: 100%|██████████| 1265/1265 [01:51<00:00, 11.31it/s]\n"
     ]
    }
   ],
   "source": [
    "vectors = model.encode(\n",
    "    [row.alt + \". \" + row.description for row in df.itertuples()],\n",
    "    show_progress_bar=True,\n",
    ")\n"
   ]
  },
  {
   "cell_type": "code",
   "execution_count": 16,
   "metadata": {},
   "outputs": [
    {
     "data": {
      "text/plain": [
       "(40474, 384)"
      ]
     },
     "execution_count": 16,
     "metadata": {},
     "output_type": "execute_result"
    }
   ],
   "source": [
    "vectors.shape"
   ]
  },
  {
   "cell_type": "code",
   "execution_count": 17,
   "metadata": {},
   "outputs": [],
   "source": [
    "np.save(\"startup_vectors.npy\", vectors, allow_pickle=False)"
   ]
  },
  {
   "cell_type": "markdown",
   "metadata": {},
   "source": [
    "## Run Qdrant in Docker\n",
    "\n",
    "Next, you need to manage all of your data using a vector engine. Qdrant lets you store, update or delete created vectors. Most importantly, it lets you search for the nearest vectors via a convenient API.\n",
    "\n",
    "Note: Before you begin, create a project directory and a virtual python environment in it.\n",
    "\n",
    "Download the Qdrant image from DockerHub.\n",
    "\n",
    "```bash \n",
    "docker pull qdrant/qdrant\n",
    "```\n",
    "\n",
    "Start Qdrant inside of Docker.\n",
    "\n",
    "```bash \n",
    "docker run -p 6333:6333 \\\n",
    "    -v $(pwd)/qdrant_storage:/qdrant/storage \\\n",
    "    qdrant/qdrant\n",
    "```\n",
    "Test the service by going to http://localhost:6333/. You should see the Qdrant version info in your browser.\n",
    "\n",
    "All data uploaded to Qdrant is saved inside the ./qdrant_storage directory and will be persisted even if you recreate the container.\n",
    "\n",
    "\n",
    "\n"
   ]
  },
  {
   "cell_type": "markdown",
   "metadata": {},
   "source": [
    "## Upload data to Qdrant\n",
    "Install the official Python client to best interact with Qdrant.\n"
   ]
  },
  {
   "cell_type": "code",
   "execution_count": 18,
   "metadata": {},
   "outputs": [
    {
     "name": "stderr",
     "output_type": "stream",
     "text": [
      "huggingface/tokenizers: The current process just got forked, after parallelism has already been used. Disabling parallelism to avoid deadlocks...\n",
      "To disable this warning, you can either:\n",
      "\t- Avoid using `tokenizers` before the fork if possible\n",
      "\t- Explicitly set the environment variable TOKENIZERS_PARALLELISM=(true | false)\n"
     ]
    },
    {
     "name": "stdout",
     "output_type": "stream",
     "text": [
      "Requirement already satisfied: qdrant-client in /Users/jeongmin/PycharmProjects/qdrant-in-practice/myenv/lib/python3.12/site-packages (1.10.1)\n",
      "Requirement already satisfied: grpcio>=1.41.0 in /Users/jeongmin/PycharmProjects/qdrant-in-practice/myenv/lib/python3.12/site-packages (from qdrant-client) (1.64.1)\n",
      "Requirement already satisfied: grpcio-tools>=1.41.0 in /Users/jeongmin/PycharmProjects/qdrant-in-practice/myenv/lib/python3.12/site-packages (from qdrant-client) (1.64.1)\n",
      "Requirement already satisfied: httpx>=0.20.0 in /Users/jeongmin/PycharmProjects/qdrant-in-practice/myenv/lib/python3.12/site-packages (from httpx[http2]>=0.20.0->qdrant-client) (0.27.0)\n",
      "Requirement already satisfied: numpy>=1.26 in /Users/jeongmin/PycharmProjects/qdrant-in-practice/myenv/lib/python3.12/site-packages (from qdrant-client) (1.26.4)\n",
      "Requirement already satisfied: portalocker<3.0.0,>=2.7.0 in /Users/jeongmin/PycharmProjects/qdrant-in-practice/myenv/lib/python3.12/site-packages (from qdrant-client) (2.10.0)\n",
      "Requirement already satisfied: pydantic>=1.10.8 in /Users/jeongmin/PycharmProjects/qdrant-in-practice/myenv/lib/python3.12/site-packages (from qdrant-client) (2.8.2)\n",
      "Requirement already satisfied: urllib3<3,>=1.26.14 in /Users/jeongmin/PycharmProjects/qdrant-in-practice/myenv/lib/python3.12/site-packages (from qdrant-client) (2.2.2)\n",
      "Requirement already satisfied: protobuf<6.0dev,>=5.26.1 in /Users/jeongmin/PycharmProjects/qdrant-in-practice/myenv/lib/python3.12/site-packages (from grpcio-tools>=1.41.0->qdrant-client) (5.27.2)\n",
      "Requirement already satisfied: setuptools in /Users/jeongmin/PycharmProjects/qdrant-in-practice/myenv/lib/python3.12/site-packages (from grpcio-tools>=1.41.0->qdrant-client) (70.2.0)\n",
      "Requirement already satisfied: anyio in /Users/jeongmin/PycharmProjects/qdrant-in-practice/myenv/lib/python3.12/site-packages (from httpx>=0.20.0->httpx[http2]>=0.20.0->qdrant-client) (4.4.0)\n",
      "Requirement already satisfied: certifi in /Users/jeongmin/PycharmProjects/qdrant-in-practice/myenv/lib/python3.12/site-packages (from httpx>=0.20.0->httpx[http2]>=0.20.0->qdrant-client) (2024.7.4)\n",
      "Requirement already satisfied: httpcore==1.* in /Users/jeongmin/PycharmProjects/qdrant-in-practice/myenv/lib/python3.12/site-packages (from httpx>=0.20.0->httpx[http2]>=0.20.0->qdrant-client) (1.0.5)\n",
      "Requirement already satisfied: idna in /Users/jeongmin/PycharmProjects/qdrant-in-practice/myenv/lib/python3.12/site-packages (from httpx>=0.20.0->httpx[http2]>=0.20.0->qdrant-client) (3.7)\n",
      "Requirement already satisfied: sniffio in /Users/jeongmin/PycharmProjects/qdrant-in-practice/myenv/lib/python3.12/site-packages (from httpx>=0.20.0->httpx[http2]>=0.20.0->qdrant-client) (1.3.1)\n",
      "Requirement already satisfied: h11<0.15,>=0.13 in /Users/jeongmin/PycharmProjects/qdrant-in-practice/myenv/lib/python3.12/site-packages (from httpcore==1.*->httpx>=0.20.0->httpx[http2]>=0.20.0->qdrant-client) (0.14.0)\n",
      "Requirement already satisfied: h2<5,>=3 in /Users/jeongmin/PycharmProjects/qdrant-in-practice/myenv/lib/python3.12/site-packages (from httpx[http2]>=0.20.0->qdrant-client) (4.1.0)\n",
      "Requirement already satisfied: annotated-types>=0.4.0 in /Users/jeongmin/PycharmProjects/qdrant-in-practice/myenv/lib/python3.12/site-packages (from pydantic>=1.10.8->qdrant-client) (0.7.0)\n",
      "Requirement already satisfied: pydantic-core==2.20.1 in /Users/jeongmin/PycharmProjects/qdrant-in-practice/myenv/lib/python3.12/site-packages (from pydantic>=1.10.8->qdrant-client) (2.20.1)\n",
      "Requirement already satisfied: typing-extensions>=4.6.1 in /Users/jeongmin/PycharmProjects/qdrant-in-practice/myenv/lib/python3.12/site-packages (from pydantic>=1.10.8->qdrant-client) (4.12.2)\n",
      "Requirement already satisfied: hyperframe<7,>=6.0 in /Users/jeongmin/PycharmProjects/qdrant-in-practice/myenv/lib/python3.12/site-packages (from h2<5,>=3->httpx[http2]>=0.20.0->qdrant-client) (6.0.1)\n",
      "Requirement already satisfied: hpack<5,>=4.0 in /Users/jeongmin/PycharmProjects/qdrant-in-practice/myenv/lib/python3.12/site-packages (from h2<5,>=3->httpx[http2]>=0.20.0->qdrant-client) (4.0.0)\n",
      "\n",
      "\u001b[1m[\u001b[0m\u001b[34;49mnotice\u001b[0m\u001b[1;39;49m]\u001b[0m\u001b[39;49m A new release of pip is available: \u001b[0m\u001b[31;49m24.0\u001b[0m\u001b[39;49m -> \u001b[0m\u001b[32;49m24.1.2\u001b[0m\n",
      "\u001b[1m[\u001b[0m\u001b[34;49mnotice\u001b[0m\u001b[1;39;49m]\u001b[0m\u001b[39;49m To update, run: \u001b[0m\u001b[32;49mpip install --upgrade pip\u001b[0m\n",
      "Note: you may need to restart the kernel to use updated packages.\n"
     ]
    }
   ],
   "source": [
    "%pip install qdrant-client"
   ]
  },
  {
   "cell_type": "code",
   "execution_count": 19,
   "metadata": {},
   "outputs": [],
   "source": [
    "from qdrant_client import QdrantClient\n",
    "from qdrant_client.models import VectorParams, Distance\n",
    "\n",
    "client = QdrantClient(\"http://localhost:6333\")"
   ]
  },
  {
   "cell_type": "code",
   "execution_count": 20,
   "metadata": {},
   "outputs": [
    {
     "name": "stderr",
     "output_type": "stream",
     "text": [
      "/var/folders/r4/w6gk0qbd6bd_sf7xj6nwdnxc0000gn/T/ipykernel_22875/2024731105.py:1: DeprecationWarning: `recreate_collection` method is deprecated and will be removed in the future. Use `collection_exists` to check collection existence and `create_collection` instead.\n",
      "  client.recreate_collection(\n"
     ]
    },
    {
     "data": {
      "text/plain": [
       "True"
      ]
     },
     "execution_count": 20,
     "metadata": {},
     "output_type": "execute_result"
    }
   ],
   "source": [
    "client.recreate_collection(\n",
    "    collection_name=\"startups\",\n",
    "    vectors_config=VectorParams(size=384, distance=Distance.COSINE),\n",
    ")"
   ]
  },
  {
   "cell_type": "code",
   "execution_count": 21,
   "metadata": {},
   "outputs": [],
   "source": [
    "fd = open(\"./startups_demo.json\")\n",
    "\n",
    "# payload is now an iterator over startup data\n",
    "payload = map(json.loads, fd)\n",
    "\n",
    "# Load all vectors into memory, numpy array works as iterable for itself.\n",
    "# Other option would be to use Mmap, if you don't want to load all data into RAM\n",
    "vectors = np.load(\"./startup_vectors.npy\")"
   ]
  },
  {
   "cell_type": "code",
   "execution_count": 22,
   "metadata": {},
   "outputs": [
    {
     "data": {
      "text/plain": [
       "array([[-0.10995458,  0.05200215, -0.05883856, ...,  0.05058498,\n",
       "         0.00743647, -0.00689396],\n",
       "       [-0.01339604,  0.05021113, -0.04075696, ..., -0.05376014,\n",
       "         0.10636391,  0.05142042],\n",
       "       [-0.11035899,  0.0826499 , -0.01236237, ..., -0.10485063,\n",
       "         0.00271895,  0.01831402],\n",
       "       ...,\n",
       "       [-0.02728407, -0.04229014, -0.06790321, ..., -0.0885737 ,\n",
       "         0.10970899,  0.04764627],\n",
       "       [-0.00196704, -0.03750686, -0.06574629, ..., -0.01514671,\n",
       "         0.01988766, -0.03325766],\n",
       "       [-0.0443297 ,  0.08066224,  0.02030026, ..., -0.11605135,\n",
       "        -0.05278013,  0.00159997]], dtype=float32)"
      ]
     },
     "execution_count": 22,
     "metadata": {},
     "output_type": "execute_result"
    }
   ],
   "source": [
    "vectors"
   ]
  },
  {
   "cell_type": "code",
   "execution_count": 23,
   "metadata": {},
   "outputs": [],
   "source": [
    "client.upload_collection(\n",
    "    collection_name=\"startups\",\n",
    "    vectors=vectors,\n",
    "    payload=payload,\n",
    "    ids=None,  # Vector ids will be assigned automatically\n",
    "    batch_size=256,  # How many vectors will be uploaded in a single request?\n",
    ")"
   ]
  },
  {
   "cell_type": "markdown",
   "metadata": {},
   "source": [
    "## Build the search API\n",
    "Now that all the preparations are complete, let’s start building a neural search class.\n",
    "\n",
    "In order to process incoming requests, neural search will need 2 things: 1) a model to convert the query into a vector and 2) the Qdrant client to perform search queries.\n",
    "\n",
    "Create a file named neural_searcher.py and specify the following.\n"
   ]
  },
  {
   "cell_type": "code",
   "execution_count": 27,
   "metadata": {},
   "outputs": [],
   "source": [
    "from qdrant_client import QdrantClient\n",
    "from sentence_transformers import SentenceTransformer\n",
    "\n",
    "\n",
    "class NeuralSearcher:\n",
    "    def __init__(self, collection_name):\n",
    "        self.collection_name = collection_name\n",
    "        # Initialize encoder model\n",
    "        self.model = SentenceTransformer(\"all-MiniLM-L6-v2\", device=\"cpu\")\n",
    "        # initialize Qdrant client\n",
    "        self.qdrant_client = QdrantClient(\"http://localhost:6333\")\n",
    "\n",
    "    def search(self, text: str):\n",
    "        # Convert text query into vector\n",
    "        vector = self.model.encode(text).tolist()\n",
    "\n",
    "        # Use `vector` for search for closest vectors in the collection\n",
    "        search_result = self.qdrant_client.search(\n",
    "            collection_name=self.collection_name,\n",
    "            query_vector=vector,\n",
    "            query_filter=None,  # If you don't want any filters for now\n",
    "            limit=5,  # 5 the most closest results is enough\n",
    "        )\n",
    "        # `search_result` contains found vector ids with similarity scores along with the stored payload\n",
    "        # In this function you are interested in payload only\n",
    "        payloads = [hit.payload for hit in search_result]\n",
    "        return payloads"
   ]
  },
  {
   "cell_type": "markdown",
   "metadata": {},
   "source": [
    "## Add search filters.\n",
    "With Qdrant it is also feasible to add some conditions to the search. For example, if you wanted to search for startups in a certain city, the search query could look like this:\n",
    "\n"
   ]
  },
  {
   "cell_type": "code",
   "execution_count": 31,
   "metadata": {},
   "outputs": [],
   "source": [
    "from qdrant_client.models import Filter\n",
    "\n",
    "city_of_interest = \"Berlin\"\n",
    "\n",
    "# Define a filter for cities\n",
    "city_filter = Filter(**{\n",
    "    \"must\": [{\n",
    "        \"key\": \"city\", # Store city information in a field of the same name \n",
    "        \"match\": { # This condition checks if payload field has the requested value\n",
    "            \"value\": city_of_interest\n",
    "        }\n",
    "    }]\n",
    "})\n",
    "\n",
    "# search_result = client.search(\n",
    "#     collection_name=\"startups\",\n",
    "#     query_vector=vector,\n",
    "#     query_filter=city_filter,\n",
    "#     limit=5\n",
    "# )"
   ]
  },
  {
   "cell_type": "markdown",
   "metadata": {},
   "source": [
    "## Deploy the search with FastAPI\n",
    "To build the service you will use the FastAPI framework.\n",
    "\n",
    "Install FastAPI.\n",
    "To install it, use the command\n",
    "\n"
   ]
  },
  {
   "cell_type": "code",
   "execution_count": 32,
   "metadata": {},
   "outputs": [
    {
     "name": "stderr",
     "output_type": "stream",
     "text": [
      "huggingface/tokenizers: The current process just got forked, after parallelism has already been used. Disabling parallelism to avoid deadlocks...\n",
      "To disable this warning, you can either:\n",
      "\t- Avoid using `tokenizers` before the fork if possible\n",
      "\t- Explicitly set the environment variable TOKENIZERS_PARALLELISM=(true | false)\n"
     ]
    },
    {
     "name": "stdout",
     "output_type": "stream",
     "text": [
      "Collecting fastapi\n",
      "  Using cached fastapi-0.111.0-py3-none-any.whl.metadata (25 kB)\n",
      "Collecting uvicorn\n",
      "  Using cached uvicorn-0.30.1-py3-none-any.whl.metadata (6.3 kB)\n",
      "Collecting starlette<0.38.0,>=0.37.2 (from fastapi)\n",
      "  Using cached starlette-0.37.2-py3-none-any.whl.metadata (5.9 kB)\n",
      "Requirement already satisfied: pydantic!=1.8,!=1.8.1,!=2.0.0,!=2.0.1,!=2.1.0,<3.0.0,>=1.7.4 in /Users/jeongmin/PycharmProjects/qdrant-in-practice/myenv/lib/python3.12/site-packages (from fastapi) (2.8.2)\n",
      "Requirement already satisfied: typing-extensions>=4.8.0 in /Users/jeongmin/PycharmProjects/qdrant-in-practice/myenv/lib/python3.12/site-packages (from fastapi) (4.12.2)\n",
      "Collecting fastapi-cli>=0.0.2 (from fastapi)\n",
      "  Using cached fastapi_cli-0.0.4-py3-none-any.whl.metadata (7.0 kB)\n",
      "Requirement already satisfied: httpx>=0.23.0 in /Users/jeongmin/PycharmProjects/qdrant-in-practice/myenv/lib/python3.12/site-packages (from fastapi) (0.27.0)\n",
      "Requirement already satisfied: jinja2>=2.11.2 in /Users/jeongmin/PycharmProjects/qdrant-in-practice/myenv/lib/python3.12/site-packages (from fastapi) (3.1.4)\n",
      "Collecting python-multipart>=0.0.7 (from fastapi)\n",
      "  Using cached python_multipart-0.0.9-py3-none-any.whl.metadata (2.5 kB)\n",
      "Collecting ujson!=4.0.2,!=4.1.0,!=4.2.0,!=4.3.0,!=5.0.0,!=5.1.0,>=4.0.1 (from fastapi)\n",
      "  Using cached ujson-5.10.0-cp312-cp312-macosx_11_0_arm64.whl.metadata (9.3 kB)\n",
      "Collecting orjson>=3.2.1 (from fastapi)\n",
      "  Downloading orjson-3.10.6-cp312-cp312-macosx_10_15_x86_64.macosx_11_0_arm64.macosx_10_15_universal2.whl.metadata (50 kB)\n",
      "\u001b[2K     \u001b[90m━━━━━━━━━━━━━━━━━━━━━━━━━━━━━━━━━━━━━━━━\u001b[0m \u001b[32m50.4/50.4 kB\u001b[0m \u001b[31m2.6 MB/s\u001b[0m eta \u001b[36m0:00:00\u001b[0m\n",
      "\u001b[?25hCollecting email_validator>=2.0.0 (from fastapi)\n",
      "  Using cached email_validator-2.2.0-py3-none-any.whl.metadata (25 kB)\n",
      "Collecting click>=7.0 (from uvicorn)\n",
      "  Using cached click-8.1.7-py3-none-any.whl.metadata (3.0 kB)\n",
      "Requirement already satisfied: h11>=0.8 in /Users/jeongmin/PycharmProjects/qdrant-in-practice/myenv/lib/python3.12/site-packages (from uvicorn) (0.14.0)\n",
      "Collecting dnspython>=2.0.0 (from email_validator>=2.0.0->fastapi)\n",
      "  Using cached dnspython-2.6.1-py3-none-any.whl.metadata (5.8 kB)\n",
      "Requirement already satisfied: idna>=2.0.0 in /Users/jeongmin/PycharmProjects/qdrant-in-practice/myenv/lib/python3.12/site-packages (from email_validator>=2.0.0->fastapi) (3.7)\n",
      "Collecting typer>=0.12.3 (from fastapi-cli>=0.0.2->fastapi)\n",
      "  Using cached typer-0.12.3-py3-none-any.whl.metadata (15 kB)\n",
      "Requirement already satisfied: anyio in /Users/jeongmin/PycharmProjects/qdrant-in-practice/myenv/lib/python3.12/site-packages (from httpx>=0.23.0->fastapi) (4.4.0)\n",
      "Requirement already satisfied: certifi in /Users/jeongmin/PycharmProjects/qdrant-in-practice/myenv/lib/python3.12/site-packages (from httpx>=0.23.0->fastapi) (2024.7.4)\n",
      "Requirement already satisfied: httpcore==1.* in /Users/jeongmin/PycharmProjects/qdrant-in-practice/myenv/lib/python3.12/site-packages (from httpx>=0.23.0->fastapi) (1.0.5)\n",
      "Requirement already satisfied: sniffio in /Users/jeongmin/PycharmProjects/qdrant-in-practice/myenv/lib/python3.12/site-packages (from httpx>=0.23.0->fastapi) (1.3.1)\n",
      "Requirement already satisfied: MarkupSafe>=2.0 in /Users/jeongmin/PycharmProjects/qdrant-in-practice/myenv/lib/python3.12/site-packages (from jinja2>=2.11.2->fastapi) (2.1.5)\n",
      "Requirement already satisfied: annotated-types>=0.4.0 in /Users/jeongmin/PycharmProjects/qdrant-in-practice/myenv/lib/python3.12/site-packages (from pydantic!=1.8,!=1.8.1,!=2.0.0,!=2.0.1,!=2.1.0,<3.0.0,>=1.7.4->fastapi) (0.7.0)\n",
      "Requirement already satisfied: pydantic-core==2.20.1 in /Users/jeongmin/PycharmProjects/qdrant-in-practice/myenv/lib/python3.12/site-packages (from pydantic!=1.8,!=1.8.1,!=2.0.0,!=2.0.1,!=2.1.0,<3.0.0,>=1.7.4->fastapi) (2.20.1)\n",
      "Collecting httptools>=0.5.0 (from uvicorn[standard]>=0.12.0->fastapi)\n",
      "  Using cached httptools-0.6.1-cp312-cp312-macosx_10_9_universal2.whl.metadata (3.6 kB)\n",
      "Collecting python-dotenv>=0.13 (from uvicorn[standard]>=0.12.0->fastapi)\n",
      "  Using cached python_dotenv-1.0.1-py3-none-any.whl.metadata (23 kB)\n",
      "Requirement already satisfied: pyyaml>=5.1 in /Users/jeongmin/PycharmProjects/qdrant-in-practice/myenv/lib/python3.12/site-packages (from uvicorn[standard]>=0.12.0->fastapi) (6.0.1)\n",
      "Collecting uvloop!=0.15.0,!=0.15.1,>=0.14.0 (from uvicorn[standard]>=0.12.0->fastapi)\n",
      "  Using cached uvloop-0.19.0-cp312-cp312-macosx_10_9_universal2.whl.metadata (4.9 kB)\n",
      "Collecting watchfiles>=0.13 (from uvicorn[standard]>=0.12.0->fastapi)\n",
      "  Using cached watchfiles-0.22.0-cp312-cp312-macosx_11_0_arm64.whl.metadata (4.9 kB)\n",
      "Collecting websockets>=10.4 (from uvicorn[standard]>=0.12.0->fastapi)\n",
      "  Using cached websockets-12.0-cp312-cp312-macosx_11_0_arm64.whl.metadata (6.6 kB)\n",
      "Collecting shellingham>=1.3.0 (from typer>=0.12.3->fastapi-cli>=0.0.2->fastapi)\n",
      "  Using cached shellingham-1.5.4-py2.py3-none-any.whl.metadata (3.5 kB)\n",
      "Collecting rich>=10.11.0 (from typer>=0.12.3->fastapi-cli>=0.0.2->fastapi)\n",
      "  Using cached rich-13.7.1-py3-none-any.whl.metadata (18 kB)\n",
      "Collecting markdown-it-py>=2.2.0 (from rich>=10.11.0->typer>=0.12.3->fastapi-cli>=0.0.2->fastapi)\n",
      "  Using cached markdown_it_py-3.0.0-py3-none-any.whl.metadata (6.9 kB)\n",
      "Requirement already satisfied: pygments<3.0.0,>=2.13.0 in /Users/jeongmin/PycharmProjects/qdrant-in-practice/myenv/lib/python3.12/site-packages (from rich>=10.11.0->typer>=0.12.3->fastapi-cli>=0.0.2->fastapi) (2.18.0)\n",
      "Collecting mdurl~=0.1 (from markdown-it-py>=2.2.0->rich>=10.11.0->typer>=0.12.3->fastapi-cli>=0.0.2->fastapi)\n",
      "  Using cached mdurl-0.1.2-py3-none-any.whl.metadata (1.6 kB)\n",
      "Using cached fastapi-0.111.0-py3-none-any.whl (91 kB)\n",
      "Using cached uvicorn-0.30.1-py3-none-any.whl (62 kB)\n",
      "Using cached click-8.1.7-py3-none-any.whl (97 kB)\n",
      "Using cached email_validator-2.2.0-py3-none-any.whl (33 kB)\n",
      "Using cached fastapi_cli-0.0.4-py3-none-any.whl (9.5 kB)\n",
      "Downloading orjson-3.10.6-cp312-cp312-macosx_10_15_x86_64.macosx_11_0_arm64.macosx_10_15_universal2.whl (250 kB)\n",
      "\u001b[2K   \u001b[90m━━━━━━━━━━━━━━━━━━━━━━━━━━━━━━━━━━━━━━━━\u001b[0m \u001b[32m250.6/250.6 kB\u001b[0m \u001b[31m3.3 MB/s\u001b[0m eta \u001b[36m0:00:00\u001b[0ma \u001b[36m0:00:01\u001b[0m\n",
      "\u001b[?25hUsing cached python_multipart-0.0.9-py3-none-any.whl (22 kB)\n",
      "Using cached starlette-0.37.2-py3-none-any.whl (71 kB)\n",
      "Using cached ujson-5.10.0-cp312-cp312-macosx_11_0_arm64.whl (51 kB)\n",
      "Using cached dnspython-2.6.1-py3-none-any.whl (307 kB)\n",
      "Using cached httptools-0.6.1-cp312-cp312-macosx_10_9_universal2.whl (146 kB)\n",
      "Using cached python_dotenv-1.0.1-py3-none-any.whl (19 kB)\n",
      "Using cached typer-0.12.3-py3-none-any.whl (47 kB)\n",
      "Using cached uvloop-0.19.0-cp312-cp312-macosx_10_9_universal2.whl (1.4 MB)\n",
      "Using cached watchfiles-0.22.0-cp312-cp312-macosx_11_0_arm64.whl (390 kB)\n",
      "Using cached websockets-12.0-cp312-cp312-macosx_11_0_arm64.whl (121 kB)\n",
      "Using cached rich-13.7.1-py3-none-any.whl (240 kB)\n",
      "Using cached shellingham-1.5.4-py2.py3-none-any.whl (9.8 kB)\n",
      "Using cached markdown_it_py-3.0.0-py3-none-any.whl (87 kB)\n",
      "Using cached mdurl-0.1.2-py3-none-any.whl (10.0 kB)\n",
      "Installing collected packages: websockets, uvloop, ujson, shellingham, python-multipart, python-dotenv, orjson, mdurl, httptools, dnspython, click, watchfiles, uvicorn, starlette, markdown-it-py, email_validator, rich, typer, fastapi-cli, fastapi\n",
      "Successfully installed click-8.1.7 dnspython-2.6.1 email_validator-2.2.0 fastapi-0.111.0 fastapi-cli-0.0.4 httptools-0.6.1 markdown-it-py-3.0.0 mdurl-0.1.2 orjson-3.10.6 python-dotenv-1.0.1 python-multipart-0.0.9 rich-13.7.1 shellingham-1.5.4 starlette-0.37.2 typer-0.12.3 ujson-5.10.0 uvicorn-0.30.1 uvloop-0.19.0 watchfiles-0.22.0 websockets-12.0\n",
      "\n",
      "\u001b[1m[\u001b[0m\u001b[34;49mnotice\u001b[0m\u001b[1;39;49m]\u001b[0m\u001b[39;49m A new release of pip is available: \u001b[0m\u001b[31;49m24.0\u001b[0m\u001b[39;49m -> \u001b[0m\u001b[32;49m24.1.2\u001b[0m\n",
      "\u001b[1m[\u001b[0m\u001b[34;49mnotice\u001b[0m\u001b[1;39;49m]\u001b[0m\u001b[39;49m To update, run: \u001b[0m\u001b[32;49mpip install --upgrade pip\u001b[0m\n",
      "Note: you may need to restart the kernel to use updated packages.\n"
     ]
    }
   ],
   "source": [
    "%pip install fastapi uvicorn"
   ]
  },
  {
   "cell_type": "code",
   "execution_count": 34,
   "metadata": {},
   "outputs": [
    {
     "ename": "RuntimeError",
     "evalue": "asyncio.run() cannot be called from a running event loop",
     "output_type": "error",
     "traceback": [
      "\u001b[0;31m---------------------------------------------------------------------------\u001b[0m",
      "\u001b[0;31mRuntimeError\u001b[0m                              Traceback (most recent call last)",
      "Cell \u001b[0;32mIn[34], line 17\u001b[0m\n\u001b[1;32m     14\u001b[0m \u001b[38;5;28;01mif\u001b[39;00m \u001b[38;5;18m__name__\u001b[39m \u001b[38;5;241m==\u001b[39m \u001b[38;5;124m\"\u001b[39m\u001b[38;5;124m__main__\u001b[39m\u001b[38;5;124m\"\u001b[39m:\n\u001b[1;32m     15\u001b[0m     \u001b[38;5;28;01mimport\u001b[39;00m \u001b[38;5;21;01muvicorn\u001b[39;00m\n\u001b[0;32m---> 17\u001b[0m     \u001b[43muvicorn\u001b[49m\u001b[38;5;241;43m.\u001b[39;49m\u001b[43mrun\u001b[49m\u001b[43m(\u001b[49m\u001b[43mapp\u001b[49m\u001b[43m,\u001b[49m\u001b[43m \u001b[49m\u001b[43mhost\u001b[49m\u001b[38;5;241;43m=\u001b[39;49m\u001b[38;5;124;43m\"\u001b[39;49m\u001b[38;5;124;43m0.0.0.0\u001b[39;49m\u001b[38;5;124;43m\"\u001b[39;49m\u001b[43m,\u001b[49m\u001b[43m \u001b[49m\u001b[43mport\u001b[49m\u001b[38;5;241;43m=\u001b[39;49m\u001b[38;5;241;43m8000\u001b[39;49m\u001b[43m)\u001b[49m\n",
      "File \u001b[0;32m~/PycharmProjects/qdrant-in-practice/myenv/lib/python3.12/site-packages/uvicorn/main.py:577\u001b[0m, in \u001b[0;36mrun\u001b[0;34m(app, host, port, uds, fd, loop, http, ws, ws_max_size, ws_max_queue, ws_ping_interval, ws_ping_timeout, ws_per_message_deflate, lifespan, interface, reload, reload_dirs, reload_includes, reload_excludes, reload_delay, workers, env_file, log_config, log_level, access_log, proxy_headers, server_header, date_header, forwarded_allow_ips, root_path, limit_concurrency, backlog, limit_max_requests, timeout_keep_alive, timeout_graceful_shutdown, ssl_keyfile, ssl_certfile, ssl_keyfile_password, ssl_version, ssl_cert_reqs, ssl_ca_certs, ssl_ciphers, headers, use_colors, app_dir, factory, h11_max_incomplete_event_size)\u001b[0m\n\u001b[1;32m    575\u001b[0m         Multiprocess(config, target\u001b[38;5;241m=\u001b[39mserver\u001b[38;5;241m.\u001b[39mrun, sockets\u001b[38;5;241m=\u001b[39m[sock])\u001b[38;5;241m.\u001b[39mrun()\n\u001b[1;32m    576\u001b[0m     \u001b[38;5;28;01melse\u001b[39;00m:\n\u001b[0;32m--> 577\u001b[0m         \u001b[43mserver\u001b[49m\u001b[38;5;241;43m.\u001b[39;49m\u001b[43mrun\u001b[49m\u001b[43m(\u001b[49m\u001b[43m)\u001b[49m\n\u001b[1;32m    578\u001b[0m \u001b[38;5;28;01mfinally\u001b[39;00m:\n\u001b[1;32m    579\u001b[0m     \u001b[38;5;28;01mif\u001b[39;00m config\u001b[38;5;241m.\u001b[39muds \u001b[38;5;129;01mand\u001b[39;00m os\u001b[38;5;241m.\u001b[39mpath\u001b[38;5;241m.\u001b[39mexists(config\u001b[38;5;241m.\u001b[39muds):\n",
      "File \u001b[0;32m~/PycharmProjects/qdrant-in-practice/myenv/lib/python3.12/site-packages/uvicorn/server.py:65\u001b[0m, in \u001b[0;36mServer.run\u001b[0;34m(self, sockets)\u001b[0m\n\u001b[1;32m     63\u001b[0m \u001b[38;5;28;01mdef\u001b[39;00m \u001b[38;5;21mrun\u001b[39m(\u001b[38;5;28mself\u001b[39m, sockets: \u001b[38;5;28mlist\u001b[39m[socket\u001b[38;5;241m.\u001b[39msocket] \u001b[38;5;241m|\u001b[39m \u001b[38;5;28;01mNone\u001b[39;00m \u001b[38;5;241m=\u001b[39m \u001b[38;5;28;01mNone\u001b[39;00m) \u001b[38;5;241m-\u001b[39m\u001b[38;5;241m>\u001b[39m \u001b[38;5;28;01mNone\u001b[39;00m:\n\u001b[1;32m     64\u001b[0m     \u001b[38;5;28mself\u001b[39m\u001b[38;5;241m.\u001b[39mconfig\u001b[38;5;241m.\u001b[39msetup_event_loop()\n\u001b[0;32m---> 65\u001b[0m     \u001b[38;5;28;01mreturn\u001b[39;00m \u001b[43masyncio\u001b[49m\u001b[38;5;241;43m.\u001b[39;49m\u001b[43mrun\u001b[49m\u001b[43m(\u001b[49m\u001b[38;5;28;43mself\u001b[39;49m\u001b[38;5;241;43m.\u001b[39;49m\u001b[43mserve\u001b[49m\u001b[43m(\u001b[49m\u001b[43msockets\u001b[49m\u001b[38;5;241;43m=\u001b[39;49m\u001b[43msockets\u001b[49m\u001b[43m)\u001b[49m\u001b[43m)\u001b[49m\n",
      "File \u001b[0;32m/opt/homebrew/Cellar/python@3.12/3.12.4/Frameworks/Python.framework/Versions/3.12/lib/python3.12/asyncio/runners.py:190\u001b[0m, in \u001b[0;36mrun\u001b[0;34m(main, debug, loop_factory)\u001b[0m\n\u001b[1;32m    161\u001b[0m \u001b[38;5;250m\u001b[39m\u001b[38;5;124;03m\"\"\"Execute the coroutine and return the result.\u001b[39;00m\n\u001b[1;32m    162\u001b[0m \n\u001b[1;32m    163\u001b[0m \u001b[38;5;124;03mThis function runs the passed coroutine, taking care of\u001b[39;00m\n\u001b[0;32m   (...)\u001b[0m\n\u001b[1;32m    186\u001b[0m \u001b[38;5;124;03m    asyncio.run(main())\u001b[39;00m\n\u001b[1;32m    187\u001b[0m \u001b[38;5;124;03m\"\"\"\u001b[39;00m\n\u001b[1;32m    188\u001b[0m \u001b[38;5;28;01mif\u001b[39;00m events\u001b[38;5;241m.\u001b[39m_get_running_loop() \u001b[38;5;129;01mis\u001b[39;00m \u001b[38;5;129;01mnot\u001b[39;00m \u001b[38;5;28;01mNone\u001b[39;00m:\n\u001b[1;32m    189\u001b[0m     \u001b[38;5;66;03m# fail fast with short traceback\u001b[39;00m\n\u001b[0;32m--> 190\u001b[0m     \u001b[38;5;28;01mraise\u001b[39;00m \u001b[38;5;167;01mRuntimeError\u001b[39;00m(\n\u001b[1;32m    191\u001b[0m         \u001b[38;5;124m\"\u001b[39m\u001b[38;5;124masyncio.run() cannot be called from a running event loop\u001b[39m\u001b[38;5;124m\"\u001b[39m)\n\u001b[1;32m    193\u001b[0m \u001b[38;5;28;01mwith\u001b[39;00m Runner(debug\u001b[38;5;241m=\u001b[39mdebug, loop_factory\u001b[38;5;241m=\u001b[39mloop_factory) \u001b[38;5;28;01mas\u001b[39;00m runner:\n\u001b[1;32m    194\u001b[0m     \u001b[38;5;28;01mreturn\u001b[39;00m runner\u001b[38;5;241m.\u001b[39mrun(main)\n",
      "\u001b[0;31mRuntimeError\u001b[0m: asyncio.run() cannot be called from a running event loop"
     ]
    }
   ],
   "source": [
    "from fastapi import FastAPI\n",
    "\n",
    "app = FastAPI()\n",
    "\n",
    "# Create a neural searcher instance\n",
    "neural_searcher = NeuralSearcher(collection_name=\"startups\")\n",
    "\n",
    "\n",
    "@app.get(\"/api/search\")\n",
    "def search_startup(q: str):\n",
    "    return {\"result\": neural_searcher.search(text=q)}\n",
    "\n",
    "\n",
    "if __name__ == \"__main__\":\n",
    "    import uvicorn\n",
    "\n",
    "    uvicorn.run(app, host=\"0.0.0.0\", port=8000)"
   ]
  }
 ],
 "metadata": {
  "kernelspec": {
   "display_name": "myenv",
   "language": "python",
   "name": "python3"
  },
  "language_info": {
   "codemirror_mode": {
    "name": "ipython",
    "version": 3
   },
   "file_extension": ".py",
   "mimetype": "text/x-python",
   "name": "python",
   "nbconvert_exporter": "python",
   "pygments_lexer": "ipython3",
   "version": "3.12.4"
  }
 },
 "nbformat": 4,
 "nbformat_minor": 2
}
